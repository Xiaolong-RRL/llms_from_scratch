{
 "cells": [
  {
   "cell_type": "markdown",
   "metadata": {},
   "source": [
    "# llama3 implemented from scratch\n",
    "in this file, i implemented llama3 from scratch, one tensor and matrix multiplication at a time.\n",
    "<br>\n",
    "also, im going to load tensors directly from the model file that meta provided for llama3, you need to download the weights before running this file.\n",
    "here is the offical link to download the weights: https://llama.meta.com/llama-downloads/\n"
   ]
  },
  {
   "cell_type": "code",
   "execution_count": null,
   "metadata": {},
   "outputs": [],
   "source": []
  }
 ],
 "metadata": {
  "language_info": {
   "name": "python"
  }
 },
 "nbformat": 4,
 "nbformat_minor": 2
}
